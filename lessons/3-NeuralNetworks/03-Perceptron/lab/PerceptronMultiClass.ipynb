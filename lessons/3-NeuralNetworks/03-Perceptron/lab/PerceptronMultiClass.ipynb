{
 "cells": [
  {
   "cell_type": "markdown",
   "metadata": {
    "collapsed": true,
    "slideshow": {
     "slide_type": "slide"
    }
   },
   "source": [
    "# Multi-Class Classification with Perceptron\n",
    "\n",
    "Lab Assignment from [AI for Beginners Curriculum](https://github.com/microsoft/ai-for-beginners)."
   ]
  },
  {
   "cell_type": "code",
   "execution_count": 127,
   "metadata": {
    "slideshow": {
     "slide_type": "skip"
    }
   },
   "outputs": [],
   "source": [
    "import numpy as np\n",
    "import pickle\n",
    "import gzip\n",
    "from sklearn.preprocessing import StandardScaler\n",
    "from sklearn.metrics import accuracy_score"
   ]
  },
  {
   "cell_type": "markdown",
   "metadata": {
    "collapsed": true,
    "slideshow": {
     "slide_type": "slide"
    }
   },
   "source": [
    "### Reading the Dataset\n",
    "\n",
    "This code download the dataset from the repository on the internet. You can also manually copy the dataset from `/data` directory of AI Curriculum repo."
   ]
  },
  {
   "cell_type": "code",
   "execution_count": 128,
   "metadata": {
    "slideshow": {
     "slide_type": "slide"
    }
   },
   "outputs": [
    {
     "name": "stdout",
     "output_type": "stream",
     "text": [
      "Ensemble Accuracy: 0.11\n"
     ]
    }
   ],
   "source": [
    "\n",
    "\n",
    "\n",
    "# Load the MNIST dataset from the pickled file\n",
    "with gzip.open('mnist.pkl.gz', 'rb') as f:\n",
    "    train_set, valid_set, test_set = pickle.load(f, encoding='latin1')\n",
    "\n",
    "X_train, y_train = train_set[0], train_set[1]\n",
    "X_test, y_test = test_set[0], test_set[1]\n",
    "\n",
    "# Standardize the features\n",
    "scaler = StandardScaler()\n",
    "X_train_scaled = scaler.fit_transform(X_train)\n",
    "X_test_scaled = scaler.transform(X_test)\n",
    "\n",
    "# Define the Perceptron class\n",
    "class Perceptron:\n",
    "    def __init__(self, num_features, learning_rate=0.01, max_epochs=100):\n",
    "        self.num_features = num_features\n",
    "        self.learning_rate = learning_rate\n",
    "        self.max_epochs = max_epochs\n",
    "        self.weights = np.zeros(num_features)\n",
    "        self.bias = 0\n",
    "    \n",
    "    def train(self, X, y):\n",
    "        for epoch in range(self.max_epochs):\n",
    "            for i in range(X.shape[0]):\n",
    "                score = np.dot(self.weights, X[i]) + self.bias\n",
    "                predicted_class = 1 if score >= 0 else 0\n",
    "                true_class = y[i]\n",
    "                \n",
    "                if predicted_class != true_class:\n",
    "                    update = self.learning_rate * (true_class - predicted_class)\n",
    "                    self.weights += update * X[i]\n",
    "                    self.bias += update\n",
    "    \n",
    "    def predict(self, X):\n",
    "        scores = np.dot(X, self.weights) + self.bias\n",
    "        return np.where(scores >= 0, 1, 0)\n",
    "\n",
    "# Train and test 10 perceptrons\n",
    "num_perceptrons = 10\n",
    "perceptrons = []\n",
    "\n",
    "for _ in range(num_perceptrons):\n",
    "    perceptron = Perceptron(X_train_scaled.shape[1])\n",
    "    perceptron.train(X_train_scaled, y_train)\n",
    "    perceptrons.append(perceptron)\n",
    "\n",
    "# Test the perceptrons on the test set\n",
    "predictions = np.array([perceptron.predict(X_test_scaled) for perceptron in perceptrons])\n",
    "ensemble_predictions = np.sum(predictions, axis=0) >= (num_perceptrons // 2)\n",
    "\n",
    "# Calculate accuracy\n",
    "ensemble_accuracy = accuracy_score(y_test, ensemble_predictions)\n",
    "print(f\"Ensemble Accuracy: {ensemble_accuracy:.2f}\")\n"
   ]
  }
 ],
 "metadata": {
  "celltoolbar": "Slideshow",
  "kernelspec": {
   "display_name": "Python 3 (ipykernel)",
   "language": "python",
   "name": "python3"
  },
  "language_info": {
   "codemirror_mode": {
    "name": "ipython",
    "version": 3
   },
   "file_extension": ".py",
   "mimetype": "text/x-python",
   "name": "python",
   "nbconvert_exporter": "python",
   "pygments_lexer": "ipython3",
   "version": "3.11.4"
  },
  "livereveal": {
   "start_slideshow_at": "selected"
  }
 },
 "nbformat": 4,
 "nbformat_minor": 2
}
